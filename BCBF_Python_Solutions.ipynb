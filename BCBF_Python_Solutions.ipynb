{
  "nbformat": 4,
  "nbformat_minor": 0,
  "metadata": {
    "colab": {
      "provenance": []
    },
    "kernelspec": {
      "name": "python3",
      "display_name": "Python 3"
    },
    "language_info": {
      "name": "python"
    }
  },
  "cells": [
    {
      "cell_type": "markdown",
      "source": [
        "# **Python 101** #\n",
        "**Intro to Python**"
      ],
      "metadata": {
        "id": "kdNp2dJE1nXh"
      }
    },
    {
      "cell_type": "markdown",
      "source": [
        "## Hello, World! ##\n",
        "\n",
        "The most basic program when learning a new language is the one that prints the words \"Hello, World\" to the console.\n",
        "\n",
        "In Python:\n",
        "\n",
        "`print(\"Hello, world\")`"
      ],
      "metadata": {
        "id": "pyYyPK2w22xQ"
      }
    },
    {
      "cell_type": "markdown",
      "source": [
        "## Data Types ##\n",
        "In Python, there are a few main data types:\n",
        "\n",
        "\n",
        "\n",
        "*   `str` - String (Text) - \"Hello\", \"Goodbye\"\n",
        "*   `int` - Integers/Whole Numbers - 123, 999, -10\n",
        "*   `float` - Decimal Numbers - 10.234, 9.99\n",
        "*   `bool` - a true/false type - true, false\n"
      ],
      "metadata": {
        "id": "PH22Yji33Vab"
      }
    },
    {
      "cell_type": "markdown",
      "source": [
        "## Operations ##\n",
        "\n",
        "We can also use operations that act on data:\n",
        "\n",
        "\n",
        "*   `+, -, *, /` which are basic mathematical operations for numbers. `+` and `*` also work with strings to combine two bits of text\n",
        "\n",
        "*   `%` which is the modulo operator, gives the remainder when dividing\n"
      ],
      "metadata": {
        "id": "yYmuPx1x52rE"
      }
    },
    {
      "cell_type": "markdown",
      "source": [
        "## Converting data types ##\n",
        "\n",
        "Sometimes we have data in one type and need to convert it to another.\n",
        "\n",
        "We can convert between common types like so:\n",
        "\n"
      ],
      "metadata": {
        "id": "5U8fyuW16_HN"
      }
    },
    {
      "cell_type": "code",
      "source": [
        "int(\"5\")"
      ],
      "metadata": {
        "id": "1B5aZOUEOBZ1"
      },
      "execution_count": null,
      "outputs": []
    },
    {
      "cell_type": "code",
      "source": [
        "str(100)"
      ],
      "metadata": {
        "id": "U4Q0c-OxODBA"
      },
      "execution_count": null,
      "outputs": []
    },
    {
      "cell_type": "code",
      "source": [
        "bool(534)"
      ],
      "metadata": {
        "id": "5oCLuTZrOFLy"
      },
      "execution_count": null,
      "outputs": []
    },
    {
      "cell_type": "code",
      "source": [
        "bool(0)"
      ],
      "metadata": {
        "id": "ZDLvI0iiOHeM"
      },
      "execution_count": null,
      "outputs": []
    },
    {
      "cell_type": "markdown",
      "source": [
        "## Variables ##\n",
        "\n",
        "A variable is a way of assigning a name to some piece of data, and it can then be reused.\n",
        "\n",
        "We can assign them with the `=` operator:"
      ],
      "metadata": {
        "id": "xGxBF_apOLhI"
      }
    },
    {
      "cell_type": "markdown",
      "source": [
        "Example:"
      ],
      "metadata": {
        "id": "C4fT-tAE9u6K"
      }
    },
    {
      "cell_type": "code",
      "source": [
        "a = 5"
      ],
      "metadata": {
        "id": "sypMILeGOaaa"
      },
      "execution_count": null,
      "outputs": []
    },
    {
      "cell_type": "markdown",
      "source": [
        "And then use them by referencing to their names:"
      ],
      "metadata": {
        "id": "NVbsoMMfOcLr"
      }
    },
    {
      "cell_type": "code",
      "source": [
        "print(a)"
      ],
      "metadata": {
        "id": "ShXGoxwUOgZq"
      },
      "execution_count": null,
      "outputs": []
    },
    {
      "cell_type": "markdown",
      "source": [
        "## Lists ##\n",
        "\n",
        "A list is another data type that can store multiple values. We use square brackets to create these:"
      ],
      "metadata": {
        "id": "6Wd_jpNcOjcO"
      }
    },
    {
      "cell_type": "code",
      "source": [
        "l = [1,2,3]"
      ],
      "metadata": {
        "id": "NtK46pjiO1D1"
      },
      "execution_count": null,
      "outputs": []
    },
    {
      "cell_type": "markdown",
      "source": [
        "And then we can find each element by its index (starting at 0):"
      ],
      "metadata": {
        "id": "JjJZqte2O27l"
      }
    },
    {
      "cell_type": "code",
      "source": [
        "l[0]"
      ],
      "metadata": {
        "id": "szJlr0PuO8nG"
      },
      "execution_count": null,
      "outputs": []
    },
    {
      "cell_type": "code",
      "source": [
        "l[2]"
      ],
      "metadata": {
        "id": "D4FBsLZCO-VU"
      },
      "execution_count": null,
      "outputs": []
    },
    {
      "cell_type": "markdown",
      "source": [
        "## Task - Variables ##\n",
        "Write some code that:"
      ],
      "metadata": {
        "id": "AAaC7dmwPBzY"
      }
    },
    {
      "cell_type": "markdown",
      "source": [
        "\n",
        "*   Makes a variable called 'name' and assign it to your name.\n",
        "*   Makes a variable called 'age' and assign it to your own age (as an int)\n",
        "*   Print something like 'My name is Harris and I am 24 years old'\n"
      ],
      "metadata": {
        "id": "Y8klAgBfPIbu"
      }
    },
    {
      "cell_type": "markdown",
      "source": [
        "## Task Solution - Variables ##"
      ],
      "metadata": {
        "id": "fZMrFNTpPnnU"
      }
    },
    {
      "cell_type": "markdown",
      "source": [
        "name = \"Harris\"\n",
        "\n",
        "*   name = \"Harris\"\n",
        "*   age = 24\n",
        "*   print(\"My name is \" + name + \" and I am \" + str(age) + \" years old\")"
      ],
      "metadata": {
        "id": "4pwFDhuTPwub"
      }
    },
    {
      "cell_type": "markdown",
      "source": [
        "## Conditions and Comparisons ##"
      ],
      "metadata": {
        "id": "ngroXA1HQMOZ"
      }
    },
    {
      "cell_type": "markdown",
      "source": [
        "In Python, we can compare values and produce a boolean expression\n",
        "\n",
        "To do this, we use comparison operators: `==, <, >, <=, >=`\n",
        "\n",
        "We can also compare boolean expressions with `and` and `or` and negate them with `not`"
      ],
      "metadata": {
        "id": "X2x_U-_sQRUu"
      }
    },
    {
      "cell_type": "code",
      "source": [
        "(not (5 == 5)) or ((5 > 2) and (2 <= 2))"
      ],
      "metadata": {
        "id": "ZPd1lH_S9nAq"
      },
      "execution_count": null,
      "outputs": []
    },
    {
      "cell_type": "markdown",
      "source": [
        "## If.. Else.. ##\n",
        "\n",
        "An if statement is a way of making a decision in a program, and run different pieces of code based on that."
      ],
      "metadata": {
        "id": "F5CSRaJx8npa"
      }
    },
    {
      "cell_type": "markdown",
      "source": [
        "Example:"
      ],
      "metadata": {
        "id": "9gKdTUkZ9yzs"
      }
    },
    {
      "cell_type": "code",
      "source": [
        "a = 10\n",
        "if a == 5:\n",
        "  print(\"a is 5\")\n",
        "elif a == 7:\n",
        "  print(\"a is 7\")\n",
        "else:\n",
        "  print(\"a is neither 5 nor 7\")"
      ],
      "metadata": {
        "id": "hu3ieQNP9OKS"
      },
      "execution_count": null,
      "outputs": []
    },
    {
      "cell_type": "markdown",
      "source": [
        "## Loops ##\n",
        "A loop is a way of running code more than once. There are two main types in Python:\n",
        "\n",
        "A `while` loop uses a condition that is checked every time it is run. If it is true, it will run the code in the loop."
      ],
      "metadata": {
        "id": "m0q_sMLE9bEZ"
      }
    },
    {
      "cell_type": "markdown",
      "source": [
        "Example:"
      ],
      "metadata": {
        "id": "4lAHQm4e94tZ"
      }
    },
    {
      "cell_type": "code",
      "source": [
        "a = 1\n",
        "while a <= 3:\n",
        "  print(a)\n",
        "  a = a + 1"
      ],
      "metadata": {
        "id": "e-Y5XsktJ8l-"
      },
      "execution_count": null,
      "outputs": []
    },
    {
      "cell_type": "markdown",
      "source": [
        "A `for` loop can be used to repeat code based on a list. For each item in the list, it will loop once and assign the data in the list to a variable."
      ],
      "metadata": {
        "id": "IofyuZ5VKJpw"
      }
    },
    {
      "cell_type": "code",
      "source": [
        "l = [5, 1, 3]\n",
        "for n in l:\n",
        "  print(n)"
      ],
      "metadata": {
        "id": "kWaht1P4Kbdd"
      },
      "execution_count": null,
      "outputs": []
    },
    {
      "cell_type": "markdown",
      "source": [
        "## Task - Loops and Conditions ##"
      ],
      "metadata": {
        "id": "SePf6j7WKg9h"
      }
    },
    {
      "cell_type": "markdown",
      "source": [
        "Make a list of numbers from 1 to 20.\n",
        "\n",
        "Loop over the list and:\n",
        "\n",
        "*   print the number if it is less than 5\n",
        "*   print the number minus 5 if it is greater than or equal to 12\n"
      ],
      "metadata": {
        "id": "MiHpbwvXUrlS"
      }
    },
    {
      "cell_type": "markdown",
      "source": [
        "## Task Solution - Loops and Conditions ##"
      ],
      "metadata": {
        "id": "xyBEC19OU8Zw"
      }
    },
    {
      "cell_type": "code",
      "source": [
        "numbers = [1,2,3,4,5,6,7,8,9,10,11,12,13,14,15,16,17,18,19,20]"
      ],
      "metadata": {
        "id": "5bEl57AMVPRo"
      },
      "execution_count": null,
      "outputs": []
    },
    {
      "cell_type": "code",
      "source": [
        "for number in numbers:\n",
        "  if number < 5:\n",
        "    print(number)\n",
        "  elif number >= 12:\n",
        "    print(number -5)"
      ],
      "metadata": {
        "id": "_N8sAjqQVQ4a"
      },
      "execution_count": null,
      "outputs": []
    },
    {
      "cell_type": "markdown",
      "source": [
        "## Functions ##\n",
        "\n",
        "A function is a way of creating a block of code you can resuse; you've already seen this with 'print'.\n",
        "\n",
        "A function has a name and a number of parameters and can 'return' a value.\n",
        "\n",
        "We define functions using 'def'\n"
      ],
      "metadata": {
        "id": "qnRpWEWzVbTw"
      }
    },
    {
      "cell_type": "code",
      "source": [
        "def add_one(x):\n",
        "  return x+1"
      ],
      "metadata": {
        "id": "qzUPy4-ZVvrl"
      },
      "execution_count": null,
      "outputs": []
    },
    {
      "cell_type": "markdown",
      "source": [
        "## Challenge Task ##\n",
        "\n",
        "Write a function that takes a number and does the following:\n",
        "\n",
        "*   If the number is divisible by 3, print \"Fizz\"\n",
        "*   If the number is divisble by 5, print \"Buzz\"\n",
        "*   If the number is divisible by both, print \"FizzBuzz\"\n",
        "*   If none of these apply, print the number\n",
        "\n",
        "Then loop from 1 to 100, and pass each number to the function"
      ],
      "metadata": {
        "id": "qaWADTzuV4a0"
      }
    },
    {
      "cell_type": "markdown",
      "source": [
        "## Challenge Task Solution ##"
      ],
      "metadata": {
        "id": "50Te6i3qXC3j"
      }
    },
    {
      "cell_type": "code",
      "source": [
        "def fizzbuzz(number):\n",
        "  if (number % 3 == 0 and number % 5 == 0):\n",
        "    print(\"FizzBuzz\")\n",
        "  elif (number % 3 == 0):\n",
        "    print(\"Fizz\")\n",
        "  elif (number % 5 == 0):\n",
        "    print(\"Buzz\")\n",
        "  else:\n",
        "    print(number)\n",
        "\n",
        "for i in range(1, 101):\n",
        "  fizzbuzz(i)"
      ],
      "metadata": {
        "id": "T2gLSlaQXBF1"
      },
      "execution_count": null,
      "outputs": []
    },
    {
      "cell_type": "markdown",
      "source": [
        "## Modules ##\n",
        "\n",
        "If you have multiple Python projects and you want to reuse code, you can use Modules.\n",
        "\n",
        "Each Python file is a Module, and from one python file, you can import functions from another."
      ],
      "metadata": {
        "id": "8_1ZMbu-Xnqi"
      }
    },
    {
      "cell_type": "code",
      "source": [
        "# module File.py\n",
        "\n",
        "def count_to_100():\n",
        "  for i in range(101):\n",
        "    print(i)"
      ],
      "metadata": {
        "id": "C_Ie5RFVX4-u"
      },
      "execution_count": null,
      "outputs": []
    },
    {
      "cell_type": "code",
      "source": [
        "# file2.py\n",
        "import moduleFile\n",
        "\n",
        "moduleFile.count_to_100()"
      ],
      "metadata": {
        "id": "Apl6N0KlYFad"
      },
      "execution_count": null,
      "outputs": []
    },
    {
      "cell_type": "code",
      "source": [
        "# file3.py\n",
        "from moduleFile import count_to_100\n",
        "\n",
        "count_to_100()"
      ],
      "metadata": {
        "id": "P46DY4TcYUWA"
      },
      "execution_count": null,
      "outputs": []
    },
    {
      "cell_type": "markdown",
      "source": [
        "## Modules ##\n",
        "\n",
        "Python has a lot of in-built modules with useful functions.\n",
        "\n",
        "To name a few:\n",
        "\n",
        "*   `math` - more complex mathematical operations\n",
        "*   `datetime` - a datatype for working with dates\n",
        "*   `random` - tools for generating random numbers"
      ],
      "metadata": {
        "id": "ff39Vk-_YWwj"
      }
    },
    {
      "cell_type": "markdown",
      "source": [
        "## **Exercise 1** ##\n",
        "\n",
        "Make a two-player Rock-Paper-Scissors game. *(Hint: Ask for player plays (using `input`), compare them, print out a message of congratulations to the winner, and ask if the players want to start a new game)*"
      ],
      "metadata": {
        "id": "layP5O5tUVuN"
      }
    },
    {
      "cell_type": "markdown",
      "source": [
        "Remember the rules:\n",
        "\n",
        "*   Rock beats scissors\n",
        "*   Scissors beats paper\n",
        "*   Paper beats rock"
      ],
      "metadata": {
        "id": "bAyi2UJtVGi9"
      }
    },
    {
      "cell_type": "markdown",
      "source": [
        "# **Sample Solution** #"
      ],
      "metadata": {
        "id": "7PpRHvcyb-AQ"
      }
    },
    {
      "cell_type": "code",
      "source": [
        "import sys\n",
        "\n",
        "user1 = input(\"What's your name?\")\n",
        "user2 = input(\"And your name?\")\n",
        "user1_answer = input(\"%s, do yo want to choose rock, paper or scissors?\" % user1)\n",
        "user2_answer = input(\"%s, do you want to choose rock, paper or scissors?\" % user2)\n",
        "\n",
        "def compare(u1, u2):\n",
        "    if u1 == u2:\n",
        "        return(\"It's a tie!\")\n",
        "    elif u1 == 'rock':\n",
        "        if u2 == 'scissors':\n",
        "            return(\"Rock wins!\")\n",
        "        else:\n",
        "            return(\"Paper wins!\")\n",
        "    elif u1 == 'scissors':\n",
        "        if u2 == 'paper':\n",
        "            return(\"Scissors win!\")\n",
        "        else:\n",
        "            return(\"Rock wins!\")\n",
        "    elif u1 == 'paper':\n",
        "        if u2 == 'rock':\n",
        "            return(\"Paper wins!\")\n",
        "        else:\n",
        "            return(\"Scissors win!\")\n",
        "    else:\n",
        "        return(\"Invalid input! You have not entered rock, paper or scissors, try again.\")\n",
        "        sys.exit()\n",
        "\n",
        "print(compare(user1_answer, user2_answer))"
      ],
      "metadata": {
        "id": "SuvZ8uF0cVgH"
      },
      "execution_count": null,
      "outputs": []
    },
    {
      "cell_type": "markdown",
      "source": [
        "Another sample solution uses a clever way of checking the winner:"
      ],
      "metadata": {
        "id": "cYKpEIz4ciTj"
      }
    },
    {
      "cell_type": "code",
      "source": [
        "print('''Please pick one:\n",
        "            rock\n",
        "            scissors\n",
        "            paper''')\n",
        "\n",
        "while True:\n",
        "    game_dict = {'rock': 1, 'scissors': 2, 'paper': 3}\n",
        "    player_a = str(input(\"Player a: \"))\n",
        "    player_b = str(input(\"Player b: \"))\n",
        "    a = game_dict.get(player_a)\n",
        "    b = game_dict.get(player_b)\n",
        "    dif = a - b\n",
        "\n",
        "    if dif in [-1, 2]:\n",
        "        print('player a wins.')\n",
        "        if str(input('Do you want to play another game, yes or no?\\n')) == 'yes':\n",
        "            continue\n",
        "        else:\n",
        "            print('game over.')\n",
        "            break\n",
        "    elif dif in [-2, 1]:\n",
        "        print('player b wins.')\n",
        "        if str(input('Do you want to play another game, yes or no?\\n')) == 'yes':\n",
        "            continue\n",
        "        else:\n",
        "            print('game over.')\n",
        "            break\n",
        "    else:\n",
        "        print('Draw.Please continue.')\n",
        "        print('')"
      ],
      "metadata": {
        "id": "ChyoHLfRcqur"
      },
      "execution_count": null,
      "outputs": []
    },
    {
      "cell_type": "markdown",
      "source": [
        "# **Exercise 2** #"
      ],
      "metadata": {
        "id": "p38zSL39VlEX"
      }
    },
    {
      "cell_type": "markdown",
      "source": [
        "## **Sample solution using `randint()`** ##"
      ],
      "metadata": {
        "id": "0-ZvEQKjV49r"
      }
    },
    {
      "cell_type": "code",
      "source": [
        "import random\n",
        "min_value=1\n",
        "max_value=6\n",
        "roll_again = \"yes\"\n",
        "while roll_again == \"yes\" or roll_again == \"y\":\n",
        "    print(\"Rolling the dices...\")\n",
        "    print(\"The values are....\")\n",
        "    value1=random.randint(min_value, max_value)\n",
        "    value2=random.randint(min_value, max_value)\n",
        "    print(value1,value2)\n",
        "    roll_again = input(\"Press 'y' or 'yes' to roll the dices again.\")\n",
        "print(\"Have a good day.\")"
      ],
      "metadata": {
        "id": "A9zFe1FkWCTN"
      },
      "execution_count": null,
      "outputs": []
    },
    {
      "cell_type": "markdown",
      "source": [
        "Output:"
      ],
      "metadata": {
        "id": "fY_o3BNpWHAe"
      }
    },
    {
      "cell_type": "code",
      "source": [
        "Rolling the dices...\n",
        "The values are....\n",
        "6 4\n",
        "Press 'y' or 'yes' to roll the dices again.y\n",
        "Rolling the dices...\n",
        "The values are....\n",
        "1 4\n",
        "Press 'y' or 'yes' to roll the dices again.y\n",
        "Rolling the dices...\n",
        "The values are....\n",
        "5 1\n",
        "Press 'y' or 'yes' to roll the dices again.yes\n",
        "Rolling the dices...\n",
        "The values are....\n",
        "5 2\n",
        "Press 'y' or 'yes' to roll the dices again.N\n",
        "Have a good day."
      ],
      "metadata": {
        "id": "CfTophqAWOKZ"
      },
      "execution_count": null,
      "outputs": []
    },
    {
      "cell_type": "markdown",
      "source": [
        "## **Sample solution using `choice()`** ##"
      ],
      "metadata": {
        "id": "qxEl90ORWSme"
      }
    },
    {
      "cell_type": "code",
      "source": [
        "import random\n",
        "dice=[1,2,3,4,5,6]\n",
        "roll_again = \"yes\"\n",
        "while roll_again == \"yes\" or roll_again == \"y\":\n",
        "    print(\"Rolling the dices...\")\n",
        "    print(\"The values are....\")\n",
        "    value1=random.choice(dice)\n",
        "    value2=random.choice(dice)\n",
        "    print(value1,value2)\n",
        "    roll_again = input(\"Press 'y' or 'yes' to roll the dices again.\")\n",
        "print(\"Have a good day.\")"
      ],
      "metadata": {
        "id": "Z-qNVnxuWbLg"
      },
      "execution_count": null,
      "outputs": []
    },
    {
      "cell_type": "markdown",
      "source": [
        "Output:"
      ],
      "metadata": {
        "id": "POibJFKPWcms"
      }
    },
    {
      "cell_type": "code",
      "source": [
        "Rolling the dices...\n",
        "The values are....\n",
        "4 2\n",
        "Press 'y' or 'yes' to roll the dices again.y\n",
        "Rolling the dices...\n",
        "The values are....\n",
        "6 2\n",
        "Press 'y' or 'yes' to roll the dices again.yes\n",
        "Rolling the dices...\n",
        "The values are....\n",
        "2 4\n",
        "Press 'y' or 'yes' to roll the dices again.No\n",
        "Have a good day."
      ],
      "metadata": {
        "id": "s-11QOwxWgel"
      },
      "execution_count": null,
      "outputs": []
    }
  ]
}