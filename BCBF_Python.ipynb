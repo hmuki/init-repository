{
  "nbformat": 4,
  "nbformat_minor": 0,
  "metadata": {
    "colab": {
      "provenance": []
    },
    "kernelspec": {
      "name": "python3",
      "display_name": "Python 3"
    },
    "language_info": {
      "name": "python"
    }
  },
  "cells": [
    {
      "cell_type": "markdown",
      "source": [
        "# **Python 101** #\n",
        "\n",
        "### Intro to Python ###"
      ],
      "metadata": {
        "id": "kdNp2dJE1nXh"
      }
    },
    {
      "cell_type": "markdown",
      "source": [
        "## Hello, World! ##\n",
        "\n",
        "The most basic program when learning a new language is the one that prints the words \"Hello, World\" to the console.\n",
        "\n",
        "In Python:\n",
        "\n",
        "`print(\"Hello, world\")`"
      ],
      "metadata": {
        "id": "pyYyPK2w22xQ"
      }
    },
    {
      "cell_type": "markdown",
      "source": [
        "## Data Types ##\n",
        "In Python, there are a few main data types:\n",
        "\n",
        "\n",
        "\n",
        "*   `str` - String (Text) - \"Hello\", \"Goodbye\"\n",
        "*   `int` - Integers/Whole Numbers - 123, 999, -10\n",
        "*   `float` - Decimal Numbers - 10.234, 9.99\n",
        "*   `bool` - a true/false type - true, false\n"
      ],
      "metadata": {
        "id": "PH22Yji33Vab"
      }
    },
    {
      "cell_type": "markdown",
      "source": [
        "## Operations ##\n",
        "\n",
        "We can also use operations that act on data:\n",
        "\n",
        "\n",
        "*   `+, -, *, /` which are basic mathematical operations for numbers. `+` and `*` also work with strings to combine two bits of text\n",
        "\n",
        "*   `%` which is the modulo operator, gives the remainder when dividing\n"
      ],
      "metadata": {
        "id": "yYmuPx1x52rE"
      }
    },
    {
      "cell_type": "markdown",
      "source": [
        "## Converting data types ##\n",
        "\n",
        "Sometimes we have data in one type and need to convert it to another.\n",
        "\n",
        "We can convert between common types like so:\n",
        "\n"
      ],
      "metadata": {
        "id": "5U8fyuW16_HN"
      }
    },
    {
      "cell_type": "code",
      "source": [
        "int(\"5\")"
      ],
      "metadata": {
        "id": "1B5aZOUEOBZ1"
      },
      "execution_count": null,
      "outputs": []
    },
    {
      "cell_type": "code",
      "source": [
        "str(100)"
      ],
      "metadata": {
        "id": "U4Q0c-OxODBA"
      },
      "execution_count": null,
      "outputs": []
    },
    {
      "cell_type": "code",
      "source": [
        "bool(534)"
      ],
      "metadata": {
        "id": "5oCLuTZrOFLy"
      },
      "execution_count": null,
      "outputs": []
    },
    {
      "cell_type": "code",
      "source": [
        "bool(0)"
      ],
      "metadata": {
        "id": "ZDLvI0iiOHeM"
      },
      "execution_count": null,
      "outputs": []
    },
    {
      "cell_type": "markdown",
      "source": [
        "## Variables ##\n",
        "\n",
        "A variable is a way of assigning a name to some piece of data, and it can then be reused.\n",
        "\n",
        "We can assign them with the `=` operator:"
      ],
      "metadata": {
        "id": "xGxBF_apOLhI"
      }
    },
    {
      "cell_type": "markdown",
      "source": [
        "Example:"
      ],
      "metadata": {
        "id": "C4fT-tAE9u6K"
      }
    },
    {
      "cell_type": "code",
      "source": [
        "a = 5"
      ],
      "metadata": {
        "id": "sypMILeGOaaa"
      },
      "execution_count": null,
      "outputs": []
    },
    {
      "cell_type": "markdown",
      "source": [
        "And then use them by referencing to their names:"
      ],
      "metadata": {
        "id": "NVbsoMMfOcLr"
      }
    },
    {
      "cell_type": "code",
      "source": [
        "print(a)"
      ],
      "metadata": {
        "id": "ShXGoxwUOgZq"
      },
      "execution_count": null,
      "outputs": []
    },
    {
      "cell_type": "markdown",
      "source": [
        "## Lists ##\n",
        "\n",
        "A list is another data type that can store multiple values. We use square brackets to create these:"
      ],
      "metadata": {
        "id": "6Wd_jpNcOjcO"
      }
    },
    {
      "cell_type": "code",
      "source": [
        "l = [1,2,3]"
      ],
      "metadata": {
        "id": "NtK46pjiO1D1"
      },
      "execution_count": null,
      "outputs": []
    },
    {
      "cell_type": "markdown",
      "source": [
        "And then we can find each element by its index (starting at 0):"
      ],
      "metadata": {
        "id": "JjJZqte2O27l"
      }
    },
    {
      "cell_type": "code",
      "source": [
        "l[0]"
      ],
      "metadata": {
        "id": "szJlr0PuO8nG"
      },
      "execution_count": null,
      "outputs": []
    },
    {
      "cell_type": "code",
      "source": [
        "l[2]"
      ],
      "metadata": {
        "id": "D4FBsLZCO-VU"
      },
      "execution_count": null,
      "outputs": []
    },
    {
      "cell_type": "markdown",
      "source": [
        "## Task - Variables ##\n",
        "Write some code that:"
      ],
      "metadata": {
        "id": "AAaC7dmwPBzY"
      }
    },
    {
      "cell_type": "markdown",
      "source": [
        "\n",
        "*   Makes a variable called 'name' and assign it to your name.\n",
        "*   Makes a variable called 'age' and assign it to your own age (as an int)\n",
        "*   Print something like 'My name is Harris and I am 24 years old'\n"
      ],
      "metadata": {
        "id": "Y8klAgBfPIbu"
      }
    },
    {
      "cell_type": "markdown",
      "source": [
        "## Task Solution - Variables ##"
      ],
      "metadata": {
        "id": "fZMrFNTpPnnU"
      }
    },
    {
      "cell_type": "markdown",
      "source": [
        "name = \"Harris\"\n",
        "\n",
        "*   name = \"Harris\"\n",
        "*   age = 24\n",
        "*   print(\"My name is \" + name + \" and I am \" + str(age) + \" years old\")"
      ],
      "metadata": {
        "id": "4pwFDhuTPwub"
      }
    },
    {
      "cell_type": "markdown",
      "source": [
        "## Conditions and Comparisons ##"
      ],
      "metadata": {
        "id": "ngroXA1HQMOZ"
      }
    },
    {
      "cell_type": "markdown",
      "source": [
        "In Python, we can compare values and produce a boolean expression\n",
        "\n",
        "To do this, we use comparison operators: `==, <, >, <=, >=`\n",
        "\n",
        "We can also compare boolean expressions with `and` and `or` and negate them with `not`"
      ],
      "metadata": {
        "id": "X2x_U-_sQRUu"
      }
    },
    {
      "cell_type": "code",
      "source": [
        "(not (5 == 5)) or ((5 > 2) and (2 <= 2))"
      ],
      "metadata": {
        "id": "ZPd1lH_S9nAq"
      },
      "execution_count": null,
      "outputs": []
    },
    {
      "cell_type": "markdown",
      "source": [
        "## If.. Else.. ##\n",
        "\n",
        "An if statement is a way of making a decision in a program, and run different pieces of code based on that."
      ],
      "metadata": {
        "id": "F5CSRaJx8npa"
      }
    },
    {
      "cell_type": "markdown",
      "source": [
        "Example:"
      ],
      "metadata": {
        "id": "9gKdTUkZ9yzs"
      }
    },
    {
      "cell_type": "code",
      "source": [
        "a = 10\n",
        "if a == 5:\n",
        "  print(\"a is 5\")\n",
        "elif a == 7:\n",
        "  print(\"a is 7\")\n",
        "else:\n",
        "  print(\"a is neither 5 nor 7\")"
      ],
      "metadata": {
        "id": "hu3ieQNP9OKS"
      },
      "execution_count": null,
      "outputs": []
    },
    {
      "cell_type": "markdown",
      "source": [
        "## Loops ##\n",
        "A loop is a way of running code more than once. There are two main types in Python:\n",
        "\n",
        "A `while` loop uses a condition that is checked every time it is run. If it is true, it will run the code in the loop."
      ],
      "metadata": {
        "id": "m0q_sMLE9bEZ"
      }
    },
    {
      "cell_type": "markdown",
      "source": [
        "Example:"
      ],
      "metadata": {
        "id": "4lAHQm4e94tZ"
      }
    },
    {
      "cell_type": "code",
      "source": [
        "a = 1\n",
        "while a <= 3:\n",
        "  print(a)\n",
        "  a = a + 1"
      ],
      "metadata": {
        "id": "e-Y5XsktJ8l-"
      },
      "execution_count": null,
      "outputs": []
    },
    {
      "cell_type": "markdown",
      "source": [
        "A `for` loop can be used to repeat code based on a list. For each item in the list, it will loop once and assign the data in the list to a variable."
      ],
      "metadata": {
        "id": "IofyuZ5VKJpw"
      }
    },
    {
      "cell_type": "code",
      "source": [
        "l = [5, 1, 3]\n",
        "for n in l:\n",
        "  print(n)"
      ],
      "metadata": {
        "id": "kWaht1P4Kbdd"
      },
      "execution_count": null,
      "outputs": []
    },
    {
      "cell_type": "markdown",
      "source": [
        "## Task - Loops and Conditions ##"
      ],
      "metadata": {
        "id": "SePf6j7WKg9h"
      }
    },
    {
      "cell_type": "markdown",
      "source": [
        "Make a list of numbers from 1 to 20.\n",
        "\n",
        "Loop over the list and:\n",
        "\n",
        "*   print the number if it is less than 5\n",
        "*   print the number minus 5 if it is greater than or equal to 12\n"
      ],
      "metadata": {
        "id": "MiHpbwvXUrlS"
      }
    },
    {
      "cell_type": "markdown",
      "source": [
        "## Task Solution - Loops and Conditions ##"
      ],
      "metadata": {
        "id": "xyBEC19OU8Zw"
      }
    },
    {
      "cell_type": "code",
      "source": [
        "numbers = [1,2,3,4,5,6,7,8,9,10,11,12,13,14,15,16,17,18,19,20]"
      ],
      "metadata": {
        "id": "5bEl57AMVPRo"
      },
      "execution_count": null,
      "outputs": []
    },
    {
      "cell_type": "code",
      "source": [
        "for number in numbers:\n",
        "  if number < 5:\n",
        "    print(number)\n",
        "  elif number >= 12:\n",
        "    print(number -5)"
      ],
      "metadata": {
        "id": "_N8sAjqQVQ4a"
      },
      "execution_count": null,
      "outputs": []
    },
    {
      "cell_type": "markdown",
      "source": [
        "## Functions ##\n",
        "\n",
        "A function is a way of creating a block of code you can resuse; you've already seen this with 'print'.\n",
        "\n",
        "A function has a name and a number of parameters and can 'return' a value.\n",
        "\n",
        "We define functions using 'def'\n"
      ],
      "metadata": {
        "id": "qnRpWEWzVbTw"
      }
    },
    {
      "cell_type": "code",
      "source": [
        "def add_one(x):\n",
        "  return x+1"
      ],
      "metadata": {
        "id": "qzUPy4-ZVvrl"
      },
      "execution_count": null,
      "outputs": []
    },
    {
      "cell_type": "markdown",
      "source": [
        "## Challenge Task ##\n",
        "\n",
        "Write a function that takes a number and does the following:\n",
        "\n",
        "*   If the number is divisible by 3, print \"Fizz\"\n",
        "*   If the number is divisble by 5, print \"Buzz\"\n",
        "*   If the number is divisible by both, print \"FizzBuzz\"\n",
        "*   If none of these apply, print the number\n",
        "\n",
        "Then loop from 1 to 100, and pass each number to the function"
      ],
      "metadata": {
        "id": "qaWADTzuV4a0"
      }
    },
    {
      "cell_type": "markdown",
      "source": [
        "## Challenge Task Solution ##"
      ],
      "metadata": {
        "id": "50Te6i3qXC3j"
      }
    },
    {
      "cell_type": "code",
      "source": [
        "def fizzbuzz(number):\n",
        "  if (number % 3 == 0 and number % 5 == 0):\n",
        "    print(\"FizzBuzz\")\n",
        "  elif (number % 3 == 0):\n",
        "    print(\"Fizz\")\n",
        "  elif (number % 5 == 0):\n",
        "    print(\"Buzz\")\n",
        "  else:\n",
        "    print(number)\n",
        "\n",
        "for i in range(1, 101):\n",
        "  fizzbuzz(i)"
      ],
      "metadata": {
        "id": "T2gLSlaQXBF1"
      },
      "execution_count": null,
      "outputs": []
    },
    {
      "cell_type": "markdown",
      "source": [
        "## Modules ##\n",
        "\n",
        "If you have multiple Python projects and you want to reuse code, you can use Modules.\n",
        "\n",
        "Each Python file is a Module, and from one python file, you can import functions from another."
      ],
      "metadata": {
        "id": "8_1ZMbu-Xnqi"
      }
    },
    {
      "cell_type": "code",
      "source": [
        "# module File.py\n",
        "\n",
        "def count_to_100():\n",
        "  for i in range(101):\n",
        "    print(i)"
      ],
      "metadata": {
        "id": "C_Ie5RFVX4-u"
      },
      "execution_count": null,
      "outputs": []
    },
    {
      "cell_type": "code",
      "source": [
        "# file2.py\n",
        "import moduleFile\n",
        "\n",
        "moduleFile.count_to_100()"
      ],
      "metadata": {
        "id": "Apl6N0KlYFad"
      },
      "execution_count": null,
      "outputs": []
    },
    {
      "cell_type": "code",
      "source": [
        "# file3.py\n",
        "from moduleFile import count_to_100\n",
        "\n",
        "count_to_100()"
      ],
      "metadata": {
        "id": "P46DY4TcYUWA"
      },
      "execution_count": null,
      "outputs": []
    },
    {
      "cell_type": "markdown",
      "source": [
        "## Modules ##\n",
        "\n",
        "Python has a lot of in-built modules with useful functions.\n",
        "\n",
        "To name a few:\n",
        "\n",
        "*   `math` - more complex mathematical operations\n",
        "*   `datetime` - a datatype for working with dates\n",
        "*   `random` - tools for generating random numbers"
      ],
      "metadata": {
        "id": "ff39Vk-_YWwj"
      }
    },
    {
      "cell_type": "markdown",
      "source": [
        "## **Exercise 1** ##\n",
        "\n",
        "Make a two-player Rock-Paper-Scissors game. *(Hint: Ask for player plays (using `input`), compare them, print out a message of congratulations to the winner, and ask if the players want to start a new game)*"
      ],
      "metadata": {
        "id": "layP5O5tUVuN"
      }
    },
    {
      "cell_type": "markdown",
      "source": [
        "Remember the rules:\n",
        "\n",
        "*   Rock beats scissors\n",
        "*   Scissors beats paper\n",
        "*   Paper beats rock"
      ],
      "metadata": {
        "id": "bAyi2UJtVGi9"
      }
    },
    {
      "cell_type": "markdown",
      "source": [
        "## Discussion ##\n",
        "\n",
        "Concepts for this week:\n",
        "\n",
        "*   While loops\n",
        "*   Infinite loops\n",
        "*   Break statements"
      ],
      "metadata": {
        "id": "g6E6246uVkN4"
      }
    },
    {
      "cell_type": "markdown",
      "source": [
        "## While loops ##\n",
        "\n",
        "We have already discussed `for` loops, or loops that look sequentially (one by one) at elements in a list. There is a second type of loop that works in a slightly different way called a `while` loop."
      ],
      "metadata": {
        "id": "D89_8pY7V8OL"
      }
    },
    {
      "cell_type": "markdown",
      "source": [
        "The idea is simple: while a certain condition is True, keep doing something. For example:"
      ],
      "metadata": {
        "id": "MeeHoj_4WPJA"
      }
    },
    {
      "cell_type": "code",
      "source": [
        "a = 5\n",
        "while (a > 0):\n",
        "  print(a)\n",
        "  a -= 1"
      ],
      "metadata": {
        "id": "Xa2NVJKGWUcE"
      },
      "execution_count": null,
      "outputs": []
    },
    {
      "cell_type": "markdown",
      "source": [
        "The output of this code segment is:\n",
        "\n",
        "5\\\n",
        "4\\\n",
        "3\\\n",
        "2\\\n",
        "1"
      ],
      "metadata": {
        "id": "8d8DCbJqWdO-"
      }
    },
    {
      "cell_type": "markdown",
      "source": [
        "A particularly useful way to use `while` loops is checking user input for correctness. For example:"
      ],
      "metadata": {
        "id": "SpfC_4NsW2A9"
      }
    },
    {
      "cell_type": "code",
      "source": [
        "quit = input('Type \"enter\" to quit:')\n",
        "while quit != \"enter\":\n",
        "  quit = input('Type \"enter\" to quit:')"
      ],
      "metadata": {
        "id": "iEFLoqrCW_fb"
      },
      "execution_count": null,
      "outputs": []
    },
    {
      "cell_type": "markdown",
      "source": [
        "The uses for this are infinite, and can (and should!) be combined with conditionals to yield the most efficient results."
      ],
      "metadata": {
        "id": "SMWpfCWmXPkQ"
      }
    },
    {
      "cell_type": "markdown",
      "source": [
        "## Infinite loops ##\n",
        "\n",
        "An infinite loop is a loop that never stops. This means that the condition in the beginning of the while loop will always be true.\n",
        "\n",
        "For example:"
      ],
      "metadata": {
        "id": "y1nMo0CMXfT0"
      }
    },
    {
      "cell_type": "code",
      "source": [
        "i = 5\n",
        "while i > 0:\n",
        "  print(\"Inside the loop\")"
      ],
      "metadata": {
        "id": "P4oyCkq0XrIG"
      },
      "execution_count": null,
      "outputs": []
    },
    {
      "cell_type": "markdown",
      "source": [
        "What will happen is the loop will print out the phrase “Inside the loop” forever and ever. If you are running your computer, you will have to “kill the program” to stop it. Each operating system has a different way of “killing a program” to get out of an infinite loop."
      ],
      "metadata": {
        "id": "sR0EttETX0NC"
      }
    },
    {
      "cell_type": "markdown",
      "source": [
        "On Linux: in the terminal, type “CTRL-C” to kill the program that is currently running in the terminal. If you are using the IDLE Python IDE, then you must press “CTRL-D” to exit your running program. When in doubt, do a Google search before you start programming!"
      ],
      "metadata": {
        "id": "HmOYbZT7X3NR"
      }
    },
    {
      "cell_type": "markdown",
      "source": [
        "On Windows: type “CTRL-ALT-DEL” and open the task manager to kill the program.\n",
        "\n",
        "On Mac: right-click on the task, and kill the program that is running forever.\n",
        "\n",
        "If you find yourself in an infinite loop, your program will never end."
      ],
      "metadata": {
        "id": "31yR6AYcX7Rb"
      }
    },
    {
      "cell_type": "markdown",
      "source": [
        "## Break statements ##\n",
        "\n",
        "A `break` statement stops the execution of a loop before the original condition is met. While the use of a `break` statement will often start an argument about good coding practices, sometimes it is useful.\n",
        "\n",
        "For example:"
      ],
      "metadata": {
        "id": "vAMCsy8CYBuC"
      }
    },
    {
      "cell_type": "code",
      "source": [
        "while True:\n",
        "  usr_command = input(\"Enter your command: \")\n",
        "  if usr_command == \"quit\":\n",
        "    break\n",
        "  else:\n",
        "    print(\"You typed \" + usr_command)"
      ],
      "metadata": {
        "id": "ibcYY1I8YQzY"
      },
      "execution_count": null,
      "outputs": []
    },
    {
      "cell_type": "markdown",
      "source": [
        "In this case, the `break` statement is used to break off the “infinite while loop” that we have constructed with the `while True` statement."
      ],
      "metadata": {
        "id": "8e1bMxuOYhqp"
      }
    },
    {
      "cell_type": "markdown",
      "source": [
        "# **Exercise 2** #"
      ],
      "metadata": {
        "id": "IDQ5-zFuJQKK"
      }
    },
    {
      "cell_type": "markdown",
      "source": [
        "Dice games are one of the easiest yet most entertaining games. In this exercise, we will implement the rolling dice game in Python."
      ],
      "metadata": {
        "id": "2UsST8AKJkL3"
      }
    },
    {
      "cell_type": "markdown",
      "source": [
        "## How does the Roll the Dice game work? ##\n",
        "\n",
        "In the roll the dice game, we throw a dice having six faces. Each face of the dice has a unique value from 1 to 6. Hence, we get a random number between 1 to 6. We can repeatedly roll the dice to obtain different numbers from 1 to 6 as long as we want. This is the classic “roll the dice” game."
      ],
      "metadata": {
        "id": "G_q27vOWJtIy"
      }
    },
    {
      "cell_type": "markdown",
      "source": [
        "## How to implement the Roll the Dice game in Python ##\n",
        "\n",
        "To implement the rolling dice game in Python, We will be using the random module. The random module provides us with different functions to generate numbers within a range or select numbers with a range from a list. Since we want to randomize the numbers we get from the dice, we will use the `randint()` function and the `choice()` function defined in the random module to implement the game in Python."
      ],
      "metadata": {
        "id": "SnQh_0k4J6uX"
      }
    },
    {
      "cell_type": "markdown",
      "source": [
        "## Roll the Dice using the `randint()` function in Python ##"
      ],
      "metadata": {
        "id": "aPYiEDiQKZd6"
      }
    },
    {
      "cell_type": "markdown",
      "source": [
        "To implement the rolling dice game in Python using the `randint()` function, we will initialize two variables `min_value` and `max_value` to the lowest and highest number of dice i.e. 1 and 6 respectively. Then, we will use the `randint()` function to generate a random integer from 1 to 6. The `randint()` function takes the minimum value and maximum value of a range as its input arguments and returns a random integer within the range. We will pass the variables `min_value` and `max_value` to the `randint()` function to imitate dice rolling by generating a random number from 1 to 6.\n",
        "\n",
        "To implement the functionality to repeatedly roll the dice, we will use a while loop so that the user can choose to roll the dice again. For this, we will ask the user if they want to roll the dice again. We will assign the user input to a variable roll_again. If the user inputs `\"yes\"` or `\"y\"`, we will roll the dice by executing the while loop again. Otherwise, we will come out of the while loop."
      ],
      "metadata": {
        "id": "jkY7RabCKk4-"
      }
    },
    {
      "cell_type": "markdown",
      "source": [
        "## Roll the dice using the `choice()` function in Python ##"
      ],
      "metadata": {
        "id": "dUigrgnOSiAh"
      }
    },
    {
      "cell_type": "markdown",
      "source": [
        "We use the `choice()` function to select a random element from a list in Python. You can also use the `choice()` function to implement the roll the dice game in Python using the following steps.\n",
        "\n",
        "*   First, we will create a Python list named dice\n",
        "containing numbers from 1 to 6.\n",
        "* Next, we will use a while loop to repeatedly execute the `choice()` function for dice rolls. The `choice()` function takes the list dice containing elements from 1 to 6 as its input and returns a value from the list.\n",
        "* Inside the while loop, we will also ask the user if they want to roll the dice again. We will assign the user input to a variable `roll_again`. If the user inputs `\"yes\"` or `\"y\"`, we will roll the dice by executing the while loop again. Otherwise, we will come out of the while loop."
      ],
      "metadata": {
        "id": "j4QnqppZSvVg"
      }
    }
  ]
}